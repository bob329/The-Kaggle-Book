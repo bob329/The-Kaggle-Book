{
 "cells": [
  {
   "cell_type": "code",
   "execution_count": null,
   "metadata": {},
   "outputs": [],
   "source": [
    "import numpy as np\n",
    "import pandas as pd\n",
    "\n",
    "#comps = pd.read_csv(\"/kaggle/input/meta-kaggle/Competitions.csv\")\n",
    "comps = pd.read_csv(\"./Competitions.csv\")\n",
    "evaluation = ['EvaluationAlgorithmAbbreviation',\n",
    "              'EvaluationAlgorithmName',\n",
    "              'EvaluationAlgorithmDescription',]\n",
    "\n",
    "compt = ['Title', 'EnabledDate', 'HostSegmentTitle']\n",
    "\n",
    "df = comps[compt + evaluation].copy()\n",
    "\n",
    "df['year'] = pd.to_datetime(df.EnabledDate).dt.year.values\n",
    "df['comps'] = 1\n",
    "time_select = df.year >= 2015\n",
    "competition_type_select = df.HostSegmentTitle.isin(['Featured', 'Research'])\n",
    "\n",
    "pd.pivot_table(df[time_select&competition_type_select],\n",
    "                    values='comps',\n",
    "                    index=['EvaluationAlgorithmAbbreviation'],\n",
    "                    columns=['year'],\n",
    "                    fill_value=0.0,\n",
    "                    aggfunc=np.sum,\n",
    "                    margins=True\n",
    "                    ).sort_values(\n",
    "                        by=('All'), ascending=False).iloc[1:,:].head(20)"
   ]
  },
  {
   "cell_type": "code",
   "execution_count": null,
   "metadata": {},
   "outputs": [],
   "source": [
    "metric = 'AUC'\n",
    "metric_select = df['EvaluationAlgorithmAbbreviation']==metric\n",
    "print(df[time_select&competition_type_select&metric_select][['Title', 'year']])"
   ]
  },
  {
   "cell_type": "code",
   "execution_count": null,
   "metadata": {},
   "outputs": [],
   "source": [
    "counts = (df[time_select&competition_type_select]\n",
    "            .groupby('EvaluationAlgorithmAbbreviation'))\n",
    "total_comps_per_year = (df[time_select&competition_type_select]\n",
    "                        .groupby('year').sum())\n",
    "single_metrics_per_year = (counts.sum()[counts.sum().comps==1]\n",
    "                            .groupby('year').sum())\n",
    "table = (total_comps_per_year.rename(columns={'comps': 'n_comps'})\n",
    "            .join(single_metrics_per_year / total_comps_per_year))\n",
    "            \n",
    "print(table)"
   ]
  },
  {
   "cell_type": "code",
   "execution_count": null,
   "metadata": {},
   "outputs": [],
   "source": [
    "print(counts.sum()[counts.sum().comps==1].index.values)"
   ]
  }
 ],
 "metadata": {
  "kernelspec": {
   "display_name": "Python 3",
   "language": "python",
   "name": "python3"
  },
  "language_info": {
   "codemirror_mode": {
    "name": "ipython",
    "version": 3
   },
   "file_extension": ".py",
   "mimetype": "text/x-python",
   "name": "python",
   "nbconvert_exporter": "python",
   "pygments_lexer": "ipython3",
   "version": "3.9.12"
  }
 },
 "nbformat": 4,
 "nbformat_minor": 4
}
